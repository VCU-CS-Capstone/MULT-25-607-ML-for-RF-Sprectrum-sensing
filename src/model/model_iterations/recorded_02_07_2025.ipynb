{
 "cells": [
  {
   "cell_type": "code",
   "execution_count": 1,
   "metadata": {},
   "outputs": [],
   "source": [
    "import sys\n",
    "import torch\n",
    "import matplotlib.pyplot as plt\n",
    "from torch import nn\n",
    "from torch.utils.data import Dataset, DataLoader\n",
    "from tqdm.notebook import tqdm\n",
    "sys.path.append(\"../\")\n",
    "import h5py\n",
    "from MLRF.Networks import DSCNN, BasicCNN\n"
   ]
  },
  {
   "cell_type": "code",
   "execution_count": 2,
   "metadata": {},
   "outputs": [],
   "source": [
    "device = torch.device(\"cuda\" if torch.cuda.is_available() else \"cpu\")\n",
    "# -------------------------------------------------------------------\n",
    "# Weight Initialization Function\n",
    "# -------------------------------------------------------------------\n",
    "def init_weights(m):\n",
    "    \"\"\"\n",
    "    Initialize convolutional and linear layers using Kaiming normal initialization.\n",
    "    \"\"\"\n",
    "    if isinstance(m, (nn.Conv1d, nn.Linear)):\n",
    "        nn.init.kaiming_normal_(m.weight, nonlinearity='relu')\n",
    "        if m.bias is not None:\n",
    "            nn.init.zeros_(m.bias)\n",
    "\n",
    "# -------------------------------------------------------------------\n",
    "# Training Function with Gradient Clipping\n",
    "# -------------------------------------------------------------------\n",
    "def train(dataloader, model, loss_fn, optimizer, scaler):\n",
    "    model.train()\n",
    "    total_loss = 0\n",
    "    batch_losses = []\n",
    "    \n",
    "    pbar = tqdm(dataloader, desc=\"Training\", unit=\"batch\", leave=False)\n",
    "    for sample, label in pbar:\n",
    "        sample = sample.to(device, non_blocking=True)\n",
    "        label = label.to(device, non_blocking=True)\n",
    "        \n",
    "        optimizer.zero_grad(set_to_none=True)\n",
    "        with torch.amp.autocast(\"cuda\"):\n",
    "            pred = model(sample)\n",
    "            loss = loss_fn(pred, label)\n",
    "        \n",
    "        scaler.scale(loss).backward()\n",
    "        \n",
    "        # Gradient clipping to prevent exploding gradients\n",
    "        torch.nn.utils.clip_grad_norm_(model.parameters(), max_norm=1.0)\n",
    "        \n",
    "        scaler.step(optimizer)\n",
    "        scaler.update()\n",
    "        \n",
    "        batch_loss = loss.detach().cpu().item()\n",
    "        total_loss += batch_loss * sample.size(0)\n",
    "        batch_losses.append(batch_loss)\n",
    "        pbar.set_postfix(loss=batch_loss)\n",
    "    \n",
    "    return total_loss / len(dataloader.dataset), batch_losses\n",
    "\n",
    "# -------------------------------------------------------------------\n",
    "# Testing Function\n",
    "# -------------------------------------------------------------------\n",
    "def test(dataloader, model, loss_fn):\n",
    "    model.eval()\n",
    "    total_loss = 0\n",
    "    correct = 0\n",
    "    batch_accuracies = []\n",
    "    \n",
    "    with torch.no_grad():\n",
    "        pbar = tqdm(dataloader, desc=\"Testing\", unit=\"batch\", leave=False)\n",
    "        for sample, label in pbar:\n",
    "            sample = sample.to(device, non_blocking=True)\n",
    "            label = label.to(device, non_blocking=True)\n",
    "            \n",
    "            with torch.amp.autocast(\"cuda\"):\n",
    "                output = model(sample)\n",
    "                loss = loss_fn(output, label)\n",
    "                total_loss += loss.item() * sample.size(0)\n",
    "                \n",
    "            pred = output.argmax(dim=1)\n",
    "            correct += pred.eq(label).sum().item()\n",
    "            batch_acc = 100 * pred.eq(label).float().mean().item()\n",
    "            batch_accuracies.append(batch_acc)\n",
    "            pbar.set_postfix(acc=batch_acc)\n",
    "    \n",
    "    avg_loss = total_loss / len(dataloader.dataset)\n",
    "    overall_acc = 100 * correct / len(dataloader.dataset)\n",
    "    return avg_loss, overall_acc, batch_accuracies\n",
    "\n",
    "class PSDDataset(Dataset):\n",
    "    def __init__(self, file_path):\n",
    "        self.file_path = file_path\n",
    "        with h5py.File(file_path, 'r') as f:\n",
    "            self.keys = list(f.keys())\n",
    "        \n",
    "    def __len__(self):\n",
    "        return len(self.keys)\n",
    "    \n",
    "    def __getitem__(self, idx):\n",
    "        with h5py.File(self.file_path, 'r') as f:\n",
    "            key = self.keys[idx]\n",
    "            data = torch.tensor(f[key][:], dtype=torch.float32)\n",
    "            # Label: 0 if key starts with 'wifi', otherwise 1 (assumes BT keys don't start with 'wifi')\n",
    "            label = 0 if key.startswith('wifi') else 1\n",
    "        return data.unsqueeze(0), label  # Add channel dimension"
   ]
  },
  {
   "cell_type": "code",
   "execution_count": 3,
   "metadata": {},
   "outputs": [
    {
     "data": {
      "application/vnd.jupyter.widget-view+json": {
       "model_id": "ebc880f127d44b81b52d79e29eb2291e",
       "version_major": 2,
       "version_minor": 0
      },
      "text/plain": [
       "Training:   0%|          | 0/351 [00:00<?, ?batch/s]"
      ]
     },
     "metadata": {},
     "output_type": "display_data"
    },
    {
     "data": {
      "application/vnd.jupyter.widget-view+json": {
       "model_id": "b9ee19c33f5243389899eb1e5df31f56",
       "version_major": 2,
       "version_minor": 0
      },
      "text/plain": [
       "Testing:   0%|          | 0/46 [00:00<?, ?batch/s]"
      ]
     },
     "metadata": {},
     "output_type": "display_data"
    },
    {
     "name": "stdout",
     "output_type": "stream",
     "text": [
      "Epoch 1/3: Train Loss: nan, Test Loss: nan, Test Acc: 44.85%\n"
     ]
    },
    {
     "data": {
      "application/vnd.jupyter.widget-view+json": {
       "model_id": "b672560852224a7f991cefbc225d3a19",
       "version_major": 2,
       "version_minor": 0
      },
      "text/plain": [
       "Training:   0%|          | 0/351 [00:00<?, ?batch/s]"
      ]
     },
     "metadata": {},
     "output_type": "display_data"
    },
    {
     "data": {
      "application/vnd.jupyter.widget-view+json": {
       "model_id": "1c9b5c4ef96f47bb901c5a2c0de6bffc",
       "version_major": 2,
       "version_minor": 0
      },
      "text/plain": [
       "Testing:   0%|          | 0/46 [00:00<?, ?batch/s]"
      ]
     },
     "metadata": {},
     "output_type": "display_data"
    },
    {
     "name": "stdout",
     "output_type": "stream",
     "text": [
      "Epoch 2/3: Train Loss: nan, Test Loss: nan, Test Acc: 44.85%\n"
     ]
    },
    {
     "data": {
      "application/vnd.jupyter.widget-view+json": {
       "model_id": "a2722ba42aff4a3db02265a2e2c14dfa",
       "version_major": 2,
       "version_minor": 0
      },
      "text/plain": [
       "Training:   0%|          | 0/351 [00:00<?, ?batch/s]"
      ]
     },
     "metadata": {},
     "output_type": "display_data"
    },
    {
     "data": {
      "application/vnd.jupyter.widget-view+json": {
       "model_id": "d66e664ddac44e2c910a1bf89f273153",
       "version_major": 2,
       "version_minor": 0
      },
      "text/plain": [
       "Testing:   0%|          | 0/46 [00:00<?, ?batch/s]"
      ]
     },
     "metadata": {},
     "output_type": "display_data"
    },
    {
     "name": "stdout",
     "output_type": "stream",
     "text": [
      "Epoch 3/3: Train Loss: nan, Test Loss: nan, Test Acc: 44.85%\n",
      "Best accuracy: 44.85%\n"
     ]
    }
   ],
   "source": [
    "\n",
    "# Hyperparameters\n",
    "config = {\n",
    "    'batch_size': 512,\n",
    "    'epochs': 3,\n",
    "    'lr': 1e-4,\n",
    "    'patience': 5,\n",
    "    'model_path': 'best_model.pth'\n",
    "}\n",
    "\n",
    "# Dataset and DataLoader with optimized settings\n",
    "train_dataset = PSDDataset(\"/home/kush/projects/MULT-25-607-ML-for-RF-Sprectrum-sensing/src/model/data/finished/train_abs.hdf5\")\n",
    "test_dataset = PSDDataset(\"/home/kush/projects/MULT-25-607-ML-for-RF-Sprectrum-sensing/src/model/data/finished/test_abs.hdf5\")\n",
    "\n",
    "train_loader = DataLoader(\n",
    "    train_dataset,\n",
    "    batch_size=config['batch_size'],\n",
    "    shuffle=True,\n",
    "    num_workers=8,\n",
    "    pin_memory=True,\n",
    "    persistent_workers=True\n",
    ")\n",
    "\n",
    "test_loader = DataLoader(\n",
    "    test_dataset,\n",
    "    batch_size=config['batch_size']*2,\n",
    "    num_workers=8,\n",
    "    pin_memory=True\n",
    ")\n",
    "\n",
    "# Model setup\n",
    "model = BasicCNN().to(device)\n",
    "loss_fn = nn.CrossEntropyLoss()\n",
    "optimizer = torch.optim.AdamW(model.parameters(), lr=config['lr'], weight_decay=1e-4)\n",
    "scaler = torch.amp.GradScaler('cuda')\n",
    "scheduler = torch.optim.lr_scheduler.ReduceLROnPlateau(optimizer, 'max', patience=3)\n",
    "\n",
    "best_acc = 0\n",
    "patience_counter = 0\n",
    "\n",
    "for epoch in range(config['epochs']):\n",
    "    train_loss, _ = train(train_loader, model, loss_fn, optimizer, scaler)\n",
    "    test_loss, test_acc, _ = test(test_loader, model, loss_fn)\n",
    "    scheduler.step(test_acc)\n",
    "    \n",
    "    # Save best model\n",
    "    if test_acc > best_acc:\n",
    "        best_acc = test_acc\n",
    "        torch.save(model.state_dict(), config['model_path'])\n",
    "        patience_counter = 0\n",
    "    else:\n",
    "        patience_counter += 1\n",
    "        \n",
    "    # Early stopping\n",
    "    if patience_counter >= config['patience']:\n",
    "        print(f\"Early stopping at epoch {epoch}\")\n",
    "        break\n",
    "        \n",
    "    print(f\"Epoch {epoch+1}/{config['epochs']}: \"\n",
    "            f\"Train Loss: {train_loss:.4f}, \"\n",
    "            f\"Test Loss: {test_loss:.4f}, \"\n",
    "            f\"Test Acc: {test_acc:.2f}%\")\n",
    "\n",
    "print(f\"Best accuracy: {best_acc:.2f}%\")"
   ]
  },
  {
   "cell_type": "code",
   "execution_count": 4,
   "metadata": {},
   "outputs": [
    {
     "ename": "NameError",
     "evalue": "name 'train_losses' is not defined",
     "output_type": "error",
     "traceback": [
      "\u001b[0;31m---------------------------------------------------------------------------\u001b[0m",
      "\u001b[0;31mNameError\u001b[0m                                 Traceback (most recent call last)",
      "Cell \u001b[0;32mIn[4], line 4\u001b[0m\n\u001b[1;32m      1\u001b[0m plt\u001b[38;5;241m.\u001b[39mfigure(figsize\u001b[38;5;241m=\u001b[39m(\u001b[38;5;241m20\u001b[39m, \u001b[38;5;241m5\u001b[39m))\n\u001b[1;32m      3\u001b[0m plt\u001b[38;5;241m.\u001b[39msubplot(\u001b[38;5;241m1\u001b[39m, \u001b[38;5;241m2\u001b[39m, \u001b[38;5;241m1\u001b[39m)\n\u001b[0;32m----> 4\u001b[0m plt\u001b[38;5;241m.\u001b[39mplot(\u001b[43mtrain_losses\u001b[49m, label\u001b[38;5;241m=\u001b[39m\u001b[38;5;124m\"\u001b[39m\u001b[38;5;124mtrain\u001b[39m\u001b[38;5;124m\"\u001b[39m)\n\u001b[1;32m      5\u001b[0m plt\u001b[38;5;241m.\u001b[39mtitle(\u001b[38;5;124m\"\u001b[39m\u001b[38;5;124mTraining Loss\u001b[39m\u001b[38;5;124m\"\u001b[39m)\n\u001b[1;32m      6\u001b[0m plt\u001b[38;5;241m.\u001b[39mxlabel(\u001b[38;5;124m\"\u001b[39m\u001b[38;5;124mEpochs\u001b[39m\u001b[38;5;124m\"\u001b[39m)\n",
      "\u001b[0;31mNameError\u001b[0m: name 'train_losses' is not defined"
     ]
    },
    {
     "data": {
      "image/png": "[encoded data removed]",
      "text/plain": [
       "<Figure size 2000x500 with 1 Axes>"
      ]
     },
     "metadata": {},
     "output_type": "display_data"
    }
   ],
   "source": [
    "plt.figure(figsize=(20, 5))\n",
    "\n",
    "plt.subplot(1, 2, 1)\n",
    "plt.plot(train_losses, label=\"train\")\n",
    "plt.title(\"Training Loss\")\n",
    "plt.xlabel(\"Epochs\")\n",
    "plt.ylabel(\"Loss\")\n",
    "plt.legend()\n",
    "plt.grid(True, which='both', linestyle='--', linewidth=0.5)\n",
    "plt.gca().yaxis.set_major_locator(plt.MultipleLocator(0.025))\n",
    "plt.gca().xaxis.set_major_locator(plt.MultipleLocator(1))\n",
    "\n",
    "plt.subplot(1, 2, 2)\n",
    "plt.plot(accuracies, label=\"accuracy\")\n",
    "plt.title(\"Accuracy\")\n",
    "plt.xlabel(\"Epochs\")\n",
    "plt.ylabel(\"Accuracy (%)\")\n",
    "plt.legend()\n",
    "plt.grid(True, which='both', linestyle='--', linewidth=1)\n",
    "ymin, ymax = min(accuracies), max(accuracies)\n",
    "if ymax > ymin:\n",
    "    plt.gca().yaxis.set_major_locator(plt.MultipleLocator((ymax - ymin)/4))\n",
    "else:\n",
    "    plt.gca().yaxis.set_major_locator(plt.MultipleLocator(0.25))\n",
    "plt.gca().xaxis.set_major_locator(plt.MultipleLocator(1))\n",
    "\n",
    "plt.tight_layout()\n",
    "plt.show()"
   ]
  }
 ],
 "metadata": {
  "kernelspec": {
   "display_name": ".venv",
   "language": "python",
   "name": "python3"
  },
  "language_info": {
   "codemirror_mode": {
    "name": "ipython",
    "version": 3
   },
   "file_extension": ".py",
   "mimetype": "text/x-python",
   "name": "python",
   "nbconvert_exporter": "python",
   "pygments_lexer": "ipython3",
   "version": "3.12.3"
  }
 },
 "nbformat": 4,
 "nbformat_minor": 2
}
