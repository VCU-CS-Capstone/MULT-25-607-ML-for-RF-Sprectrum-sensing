{
 "cells": [
  {
   "cell_type": "code",
   "execution_count": 1,
   "metadata": {},
   "outputs": [],
   "source": [
    "from MLRF.datatools import h5kit, psdkit\n",
    "import numpy as np\n",
    "import pandas as pd\n",
    "from tqdm.notebook import tqdm\n",
    "from scipy.signal import find_peaks\n",
    "from random import shuffle"
   ]
  },
  {
   "cell_type": "code",
   "execution_count": 2,
   "metadata": {},
   "outputs": [],
   "source": [
    "wifi_iq = h5kit('data/2_4ghz_indoor.h5')\n",
    "bt_iq = h5kit('data/2_4ghz_bluetooth.h5')\n",
    "psd_test = h5kit('psd_test.h5')\n",
    "psd_train = h5kit('psd_train.h5')"
   ]
  },
  {
   "cell_type": "code",
   "execution_count": 3,
   "metadata": {},
   "outputs": [
    {
     "data": {
      "application/vnd.jupyter.widget-view+json": {
       "model_id": "88cf0b36efc44b7581f5864c7ffd724d",
       "version_major": 2,
       "version_minor": 0
      },
      "text/plain": [
       "bluetooth iq -> psd (Training):   0%|          | 0/287109 [00:00<?, ?it/s]"
      ]
     },
     "metadata": {},
     "output_type": "display_data"
    },
    {
     "data": {
      "application/vnd.jupyter.widget-view+json": {
       "model_id": "de92c389aa3041a2ab9ea2bb2d70d28e",
       "version_major": 2,
       "version_minor": 0
      },
      "text/plain": [
       "bluetooth iq -> psd (Testing):   0%|          | 0/123047 [00:00<?, ?it/s]"
      ]
     },
     "metadata": {},
     "output_type": "display_data"
    }
   ],
   "source": [
    "# Process WiFi data\n",
    "keys = wifi_iq.keys()[0]\n",
    "data = wifi_iq.read(keys).ravel()\n",
    "data = psdkit.normalize(data)\n",
    "data = psdkit.deinterlace_iq(data)\n",
    "split_index = int(0.7 * len(data) // 2048)\n",
    "\n",
    "# for i, idx in enumerate(tqdm(range(split_index), desc=\"wifi iq -> psd (Training)\")):\n",
    "#     segment = data[idx * 2048 : (idx + 1) * 2048]\n",
    "#     psd = psdkit.iq_to_psd(segment, 30000000, 2437000000).astype(np.float32)\n",
    "#     psd_train.write(f\"wifi_{i}\", psd)\n",
    "\n",
    "# for i, idx in enumerate(\n",
    "#     tqdm(range(split_index, len(data) // 2048), desc=\"wifi iq -> psd (Testing)\")\n",
    "# ):\n",
    "#     segment = data[idx * 2048 : (idx + 1) * 2048]\n",
    "#     psd = psdkit.iq_to_psd(segment, 30000000, 2437000000).astype(np.float32)\n",
    "#     psd_test.write(f\"wifi_{i}\", psd)\n",
    "\n",
    "NOISE_THRESHOLD = -85.0\n",
    "PEAK_PROMINENCE = 2\n",
    "# Process Bluetooth data\n",
    "keys = bt_iq.keys()\n",
    "shuffle(keys)\n",
    "keys = keys[:28]\n",
    "data = bt_iq.read(keys).ravel()\n",
    "data = psdkit.normalize(data)\n",
    "data = psdkit.deinterlace_iq(data)\n",
    "split_index = int(0.7 * len(data) // 2048)\n",
    "\n",
    "\n",
    "for i, idx in enumerate(\n",
    "    tqdm(range(split_index), desc=\"bluetooth iq -> psd (Training)\")\n",
    "):\n",
    "    segment = data[idx * 2048 : (idx + 1) * 2048]\n",
    "    psd = psdkit.iq_to_psd(segment, 30000000, 2437000000).astype(np.float32)\n",
    "    peaks, properties = find_peaks(\n",
    "        psd, height=NOISE_THRESHOLD, prominence=PEAK_PROMINENCE\n",
    "    )\n",
    "    if len(peaks) > 0:\n",
    "        psd_train.write(f\"bluetooth_{i}\", psd)\n",
    "\n",
    "for i, idx in enumerate(\n",
    "    tqdm(range(split_index, len(data) // 2048), desc=\"bluetooth iq -> psd (Testing)\")\n",
    "):\n",
    "    segment = data[idx * 2048 : (idx + 1) * 2048]\n",
    "    psd = psdkit.iq_to_psd(segment, 30000000, 2437000000).astype(np.float32)\n",
    "    peaks, properties = find_peaks(\n",
    "        psd, height=NOISE_THRESHOLD, prominence=PEAK_PROMINENCE\n",
    "    )\n",
    "    if len(peaks) > 0:\n",
    "        psd_test.write(f\"bluetooth_{i}\", psd)"
   ]
  },
  {
   "cell_type": "code",
   "execution_count": 4,
   "metadata": {},
   "outputs": [
    {
     "name": "stdout",
     "output_type": "stream",
     "text": [
      "9447\n",
      "10253\n"
     ]
    }
   ],
   "source": [
    "keys = psd_train.keys()\n",
    "print(len([key for key in keys if 'bluetooth' in key]))\n",
    "print(len([key for key in keys if 'wifi' in key]))"
   ]
  }
 ],
 "metadata": {
  "kernelspec": {
   "display_name": ".venv",
   "language": "python",
   "name": "python3"
  },
  "language_info": {
   "codemirror_mode": {
    "name": "ipython",
    "version": 3
   },
   "file_extension": ".py",
   "mimetype": "text/x-python",
   "name": "python",
   "nbconvert_exporter": "python",
   "pygments_lexer": "ipython3",
   "version": "3.12.3"
  }
 },
 "nbformat": 4,
 "nbformat_minor": 2
}
