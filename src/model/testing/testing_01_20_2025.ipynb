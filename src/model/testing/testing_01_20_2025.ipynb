{
 "cells": [
  {
   "cell_type": "code",
   "execution_count": 1,
   "metadata": {},
   "outputs": [],
   "source": [
    "import torch\n",
    "import sys\n",
    "import numpy as np\n",
    "from torch import nn\n",
    "sys.path.append(\"../\")\n",
    "from MLRF.datatools import h5kit\n",
    "from scipy.signal import find_peaks\n",
    "\n",
    "\n",
    "device = torch.device(\"cuda\" if torch.cuda.is_available() else \"cpu\")\n",
    "\n",
    "class NeuralNetwork(nn.Module):\n",
    "    def __init__(self):\n",
    "        super(NeuralNetwork, self).__init__()\n",
    "        self.conv1 = nn.Conv1d(\n",
    "            in_channels=1, out_channels=16, kernel_size=3, stride=1, padding=1\n",
    "        )\n",
    "        self.conv2 = nn.Conv1d(\n",
    "            in_channels=16, out_channels=32, kernel_size=3, stride=1, padding=1\n",
    "        )\n",
    "        self.conv3 = nn.Conv1d(\n",
    "            in_channels=32, out_channels=64, kernel_size=3, stride=1, padding=1\n",
    "        )\n",
    "        self.pool = nn.MaxPool1d(kernel_size=2, stride=2, padding=0)\n",
    "        self.flatten = nn.Flatten()\n",
    "        self.fc1 = nn.Linear(64 * 256, 128)\n",
    "        self.dropout = nn.Dropout(p=0.1)\n",
    "        self.fc2 = nn.Linear(128, 2)\n",
    "        self.relu = nn.ReLU()\n",
    "\n",
    "    def forward(self, x):\n",
    "        if len(x.shape) == 2:\n",
    "            x = x.unsqueeze(1)\n",
    "\n",
    "        x = self.pool(self.relu(self.conv1(x)))\n",
    "        x = self.pool(self.relu(self.conv2(x)))\n",
    "        x = self.pool(self.relu(self.conv3(x)))\n",
    "\n",
    "        x = self.flatten(x)\n",
    "        x = self.relu(self.fc1(x))\n",
    "        # x = self.dropout(x)\n",
    "        x = self.fc2(x)\n",
    "\n",
    "        return x"
   ]
  },
  {
   "cell_type": "code",
   "execution_count": 2,
   "metadata": {},
   "outputs": [
    {
     "name": "stderr",
     "output_type": "stream",
     "text": [
      "/tmp/ipykernel_1056/2625785872.py:3: FutureWarning: You are using `torch.load` with `weights_only=False` (the current default value), which uses the default pickle module implicitly. It is possible to construct malicious pickle data which will execute arbitrary code during unpickling (See https://github.com/pytorch/pytorch/blob/main/SECURITY.md#untrusted-models for more details). In a future release, the default value for `weights_only` will be flipped to `True`. This limits the functions that could be executed during unpickling. Arbitrary objects will no longer be allowed to be loaded via this mode unless they are explicitly allowlisted by the user via `torch.serialization.add_safe_globals`. We recommend you start setting `weights_only=True` for any use case where you don't have full control of the loaded file. Please open an issue on GitHub for any issues related to this experimental feature.\n",
      "  model = torch.load('model.pth', map_location=device)\n"
     ]
    },
    {
     "name": "stdout",
     "output_type": "stream",
     "text": [
      "Total wifi: 0, Total bluetooth: 868\n"
     ]
    }
   ],
   "source": [
    "# Load the model\n",
    "\n",
    "model = torch.load('model.pth', map_location=device)\n",
    "model.to(device)\n",
    "model.eval()\n",
    "\n",
    "# Example data for inference\n",
    "dataset = h5kit(\"../overair.h5\")\n",
    "\n",
    "keys = dataset.keys()\n",
    "NOISE_THRESHOLD = -1000\n",
    "PEAK_PROMINENCE = 2\n",
    "# Perform inference\n",
    "with torch.no_grad():\n",
    "    wifi_count = 0\n",
    "    bluetooth_count = 0\n",
    "\n",
    "    for key in keys:\n",
    "        data = dataset.read(key).astype(np.float32)\n",
    "        peaks, properties = find_peaks(\n",
    "        data, height=NOISE_THRESHOLD, prominence=PEAK_PROMINENCE\n",
    "        )\n",
    "        if len(peaks) > 0:\n",
    "            data = torch.tensor(data).unsqueeze(0).unsqueeze(0).to(device)\n",
    "            output = model(data)\n",
    "            pred = torch.argmax(output).item()\n",
    "            if pred == 0:\n",
    "                wifi_count += 1\n",
    "                decision = \"wifi\"\n",
    "            else:\n",
    "                bluetooth_count += 1\n",
    "                decision = \"bluetooth\"\n",
    "\n",
    "    print(f\"Total wifi: {wifi_count}, Total bluetooth: {bluetooth_count}\")"
   ]
  }
 ],
 "metadata": {
  "kernelspec": {
   "display_name": ".venv",
   "language": "python",
   "name": "python3"
  },
  "language_info": {
   "codemirror_mode": {
    "name": "ipython",
    "version": 3
   },
   "file_extension": ".py",
   "mimetype": "text/x-python",
   "name": "python",
   "nbconvert_exporter": "python",
   "pygments_lexer": "ipython3",
   "version": "3.12.3"
  }
 },
 "nbformat": 4,
 "nbformat_minor": 2
}
